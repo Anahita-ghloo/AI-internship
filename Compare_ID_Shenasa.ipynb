{
 "cells": [
  {
   "cell_type": "code",
   "execution_count": null,
   "metadata": {},
   "outputs": [],
   "source": [
    "import os\n",
    "import shutil"
   ]
  },
  {
   "cell_type": "code",
   "execution_count": null,
   "metadata": {},
   "outputs": [],
   "source": [
    "index_directory = 'dataset/dataset_internship/dataset/index/2.jpg'\n",
    "others_directory = 'dataset/dataset_internship/dataset/others/18_0001.jpg'\n",
    "\n",
    "# Get index ID\n",
    "index = index_directory.split(\"/\")\n",
    "index_id = index[-1]\n",
    "\n",
    "# Get Others ID \n",
    "others = others_directory.split(\"/\")\n",
    "others_id = others[-1]\n",
    "others_id, _ = others_id.split(\"_\", 1)\n",
    "others_id = others_id + \".jpg\"\n",
    "\n",
    "if (index_id == others_id) :\n",
    "    \n",
    "    # Create same directory\n",
    "    same_dir = './Untitled Folder/same'\n",
    "    if not os.path.exists(same_dir):\n",
    "        os.makedirs(same_dir)\n",
    "    # Move same images to same directory\n",
    "    shutil.move(index_directory, same_dir)\n",
    "    shutil.move(others_directory, same_dir)\n",
    "    \n",
    "else :\n",
    "    \n",
    "    # Create different directory\n",
    "    different_dir = './Untitled Folder/different'\n",
    "    if not os.path.exists(different_dir):\n",
    "        os.makedirs(different_dir)\n",
    "    # Move different images to different directory\n",
    "    shutil.move(index_directory, different_dir)   \n",
    "    shutil.move(others_directory, different_dir)  "
   ]
  }
 ],
 "metadata": {
  "kernelspec": {
   "display_name": "Python 3",
   "language": "python",
   "name": "python3"
  },
  "language_info": {
   "codemirror_mode": {
    "name": "ipython",
    "version": 3
   },
   "file_extension": ".py",
   "mimetype": "text/x-python",
   "name": "python",
   "nbconvert_exporter": "python",
   "pygments_lexer": "ipython3",
   "version": "3.7.9"
  }
 },
 "nbformat": 4,
 "nbformat_minor": 4
}
